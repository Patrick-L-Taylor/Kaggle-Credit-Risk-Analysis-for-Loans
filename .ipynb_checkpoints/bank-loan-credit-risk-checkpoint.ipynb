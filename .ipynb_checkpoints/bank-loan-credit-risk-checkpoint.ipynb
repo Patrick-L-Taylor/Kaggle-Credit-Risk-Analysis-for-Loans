{
 "cells": [
  {
   "cell_type": "markdown",
   "metadata": {},
   "source": [
    "# Import Packages"
   ]
  },
  {
   "cell_type": "code",
   "execution_count": 1,
   "metadata": {
    "_cell_guid": "b1076dfc-b9ad-4769-8c92-a6c4dae69d19",
    "_uuid": "8f2839f25d086af736a60e9eeb907d3b93b6e0e5",
    "execution": {
     "iopub.execute_input": "2023-09-17T18:42:11.312588Z",
     "iopub.status.busy": "2023-09-17T18:42:11.312204Z",
     "iopub.status.idle": "2023-09-17T18:42:11.324871Z",
     "shell.execute_reply": "2023-09-17T18:42:11.323836Z",
     "shell.execute_reply.started": "2023-09-17T18:42:11.312554Z"
    }
   },
   "outputs": [],
   "source": [
    "# original project: https://www.kaggle.com/datasets/atulmittal199174/credit-risk-analysis-for-extending-bank-loans\n",
    "\n",
    "import numpy as np \n",
    "import pandas as pd \n",
    "import matplotlib.pyplot as plt\n",
    "import seaborn as sns\n",
    "from sklearn.ensemble import RandomForestClassifier\n",
    "from sklearn.svm import SVC\n",
    "from sklearn.linear_model import LogisticRegression\n",
    "from sklearn.metrics import confusion_matrix\n",
    "from sklearn.preprocessing import StandardScaler\n",
    "from sklearn.model_selection import train_test_split,GridSearchCV,cross_val_score\n",
    "from sklearn.ensemble import VotingClassifier\n",
    "from sklearn.metrics import accuracy_score\n",
    "import os\n",
    "%matplotlib inline"
   ]
  },
  {
   "cell_type": "markdown",
   "metadata": {},
   "source": [
    "# Import Data"
   ]
  },
  {
   "cell_type": "code",
   "execution_count": 2,
   "metadata": {},
   "outputs": [
    {
     "data": {
      "text/html": [
       "<div>\n",
       "<style scoped>\n",
       "    .dataframe tbody tr th:only-of-type {\n",
       "        vertical-align: middle;\n",
       "    }\n",
       "\n",
       "    .dataframe tbody tr th {\n",
       "        vertical-align: top;\n",
       "    }\n",
       "\n",
       "    .dataframe thead th {\n",
       "        text-align: right;\n",
       "    }\n",
       "</style>\n",
       "<table border=\"1\" class=\"dataframe\">\n",
       "  <thead>\n",
       "    <tr style=\"text-align: right;\">\n",
       "      <th></th>\n",
       "      <th>age</th>\n",
       "      <th>ed</th>\n",
       "      <th>employ</th>\n",
       "      <th>address</th>\n",
       "      <th>income</th>\n",
       "      <th>debtinc</th>\n",
       "      <th>creddebt</th>\n",
       "      <th>othdebt</th>\n",
       "      <th>default</th>\n",
       "    </tr>\n",
       "  </thead>\n",
       "  <tbody>\n",
       "    <tr>\n",
       "      <th>0</th>\n",
       "      <td>41</td>\n",
       "      <td>3</td>\n",
       "      <td>17</td>\n",
       "      <td>12</td>\n",
       "      <td>176</td>\n",
       "      <td>9.3</td>\n",
       "      <td>11.359392</td>\n",
       "      <td>5.008608</td>\n",
       "      <td>1.0</td>\n",
       "    </tr>\n",
       "    <tr>\n",
       "      <th>1</th>\n",
       "      <td>27</td>\n",
       "      <td>1</td>\n",
       "      <td>10</td>\n",
       "      <td>6</td>\n",
       "      <td>31</td>\n",
       "      <td>17.3</td>\n",
       "      <td>1.362202</td>\n",
       "      <td>4.000798</td>\n",
       "      <td>0.0</td>\n",
       "    </tr>\n",
       "    <tr>\n",
       "      <th>2</th>\n",
       "      <td>40</td>\n",
       "      <td>1</td>\n",
       "      <td>15</td>\n",
       "      <td>14</td>\n",
       "      <td>55</td>\n",
       "      <td>5.5</td>\n",
       "      <td>0.856075</td>\n",
       "      <td>2.168925</td>\n",
       "      <td>0.0</td>\n",
       "    </tr>\n",
       "    <tr>\n",
       "      <th>3</th>\n",
       "      <td>41</td>\n",
       "      <td>1</td>\n",
       "      <td>15</td>\n",
       "      <td>14</td>\n",
       "      <td>120</td>\n",
       "      <td>2.9</td>\n",
       "      <td>2.658720</td>\n",
       "      <td>0.821280</td>\n",
       "      <td>0.0</td>\n",
       "    </tr>\n",
       "    <tr>\n",
       "      <th>4</th>\n",
       "      <td>24</td>\n",
       "      <td>2</td>\n",
       "      <td>2</td>\n",
       "      <td>0</td>\n",
       "      <td>28</td>\n",
       "      <td>17.3</td>\n",
       "      <td>1.787436</td>\n",
       "      <td>3.056564</td>\n",
       "      <td>1.0</td>\n",
       "    </tr>\n",
       "  </tbody>\n",
       "</table>\n",
       "</div>"
      ],
      "text/plain": [
       "   age  ed  employ  address  income  debtinc   creddebt   othdebt  default\n",
       "0   41   3      17       12     176      9.3  11.359392  5.008608      1.0\n",
       "1   27   1      10        6      31     17.3   1.362202  4.000798      0.0\n",
       "2   40   1      15       14      55      5.5   0.856075  2.168925      0.0\n",
       "3   41   1      15       14     120      2.9   2.658720  0.821280      0.0\n",
       "4   24   2       2        0      28     17.3   1.787436  3.056564      1.0"
      ]
     },
     "execution_count": 2,
     "metadata": {},
     "output_type": "execute_result"
    }
   ],
   "source": [
    "# import data as df\n",
    "\n",
    "df = pd.read_csv('bankloans.csv')\n",
    "df.head()"
   ]
  },
  {
   "cell_type": "markdown",
   "metadata": {},
   "source": [
    "# Explore data and drop nulls"
   ]
  },
  {
   "cell_type": "code",
   "execution_count": 3,
   "metadata": {
    "execution": {
     "iopub.execute_input": "2023-09-17T17:52:55.170312Z",
     "iopub.status.busy": "2023-09-17T17:52:55.167629Z",
     "iopub.status.idle": "2023-09-17T17:52:55.180413Z",
     "shell.execute_reply": "2023-09-17T17:52:55.179264Z",
     "shell.execute_reply.started": "2023-09-17T17:52:55.170274Z"
    }
   },
   "outputs": [
    {
     "data": {
      "text/plain": [
       "age           0\n",
       "ed            0\n",
       "employ        0\n",
       "address       0\n",
       "income        0\n",
       "debtinc       0\n",
       "creddebt      0\n",
       "othdebt       0\n",
       "default     450\n",
       "dtype: int64"
      ]
     },
     "execution_count": 3,
     "metadata": {},
     "output_type": "execute_result"
    }
   ],
   "source": [
    "# check sum of nulls\n",
    "df.isnull().sum()"
   ]
  },
  {
   "cell_type": "code",
   "execution_count": 4,
   "metadata": {
    "execution": {
     "iopub.execute_input": "2023-09-17T17:52:55.233615Z",
     "iopub.status.busy": "2023-09-17T17:52:55.232985Z",
     "iopub.status.idle": "2023-09-17T17:52:55.256690Z",
     "shell.execute_reply": "2023-09-17T17:52:55.255612Z",
     "shell.execute_reply.started": "2023-09-17T17:52:55.233573Z"
    }
   },
   "outputs": [
    {
     "data": {
      "text/plain": [
       "age  ed  employ  address  income  debtinc  creddebt  othdebt    default\n",
       "20   1   4       0        14      9.7      0.200984  1.157016   1.0        1\n",
       "39   1   10      4        31      4.8      0.184512  1.303488   0.0        1\n",
       "         0       8        39      7.9      1.066026  2.014974   0.0        1\n",
       "         2       15       22      23.1     1.915914  3.166086   1.0        1\n",
       "         4       9        38      6.5      1.178190  1.291810   0.0        1\n",
       "                                                                          ..\n",
       "30   2   8       4        56      6.4      0.333312  3.250688   0.0        1\n",
       "         10      4        22      16.1     1.409716  2.132284   0.0        1\n",
       "         12      9        68      20.1     2.856612  10.811388  0.0        1\n",
       "                          98      7.2      2.935296  4.120704   0.0        1\n",
       "56   1   11      20       59      15.0     4.672800  4.177200   0.0        1\n",
       "Length: 700, dtype: int64"
      ]
     },
     "execution_count": 4,
     "metadata": {},
     "output_type": "execute_result"
    }
   ],
   "source": [
    "# value counts\n",
    "df.value_counts()"
   ]
  },
  {
   "cell_type": "code",
   "execution_count": 5,
   "metadata": {
    "execution": {
     "iopub.execute_input": "2023-09-17T17:52:55.440137Z",
     "iopub.status.busy": "2023-09-17T17:52:55.439481Z",
     "iopub.status.idle": "2023-09-17T17:52:55.448561Z",
     "shell.execute_reply": "2023-09-17T17:52:55.446986Z",
     "shell.execute_reply.started": "2023-09-17T17:52:55.440100Z"
    }
   },
   "outputs": [],
   "source": [
    "# drop nas\n",
    "df = df.dropna()"
   ]
  },
  {
   "cell_type": "markdown",
   "metadata": {},
   "source": [
    "# Visualize Data\n"
   ]
  },
  {
   "cell_type": "code",
   "execution_count": 6,
   "metadata": {
    "execution": {
     "iopub.execute_input": "2023-09-17T18:31:32.896984Z",
     "iopub.status.busy": "2023-09-17T18:31:32.894005Z",
     "iopub.status.idle": "2023-09-17T18:31:33.453259Z",
     "shell.execute_reply": "2023-09-17T18:31:33.451167Z",
     "shell.execute_reply.started": "2023-09-17T18:31:32.896930Z"
    }
   },
   "outputs": [
    {
     "data": {
      "text/plain": [
       "<AxesSubplot:>"
      ]
     },
     "execution_count": 6,
     "metadata": {},
     "output_type": "execute_result"
    },
    {
     "data": {
      "image/png": "[encoded data removed]",
      "text/plain": [
       "<Figure size 720x432 with 2 Axes>"
      ]
     },
     "metadata": {
      "needs_background": "light"
     },
     "output_type": "display_data"
    }
   ],
   "source": [
    "# compute the correlation matrix and mask upper triangle\n",
    "corr = df.corr()\n",
    "mask = np.triu(np.ones_like(corr, dtype=bool))\n",
    "\n",
    "# plot the heatmap\n",
    "fig, ax = plt.subplots(figsize=(10,6))\n",
    "sns.heatmap(corr, mask=mask, cmap='coolwarm')"
   ]
  },
  {
   "cell_type": "code",
   "execution_count": 7,
   "metadata": {
    "execution": {
     "iopub.execute_input": "2023-09-17T18:06:23.881146Z",
     "iopub.status.busy": "2023-09-17T18:06:23.880724Z",
     "iopub.status.idle": "2023-09-17T18:06:25.076728Z",
     "shell.execute_reply": "2023-09-17T18:06:25.075705Z",
     "shell.execute_reply.started": "2023-09-17T18:06:23.881111Z"
    }
   },
   "outputs": [
    {
     "data": {
      "image/png": "[encoded data removed]",
      "text/plain": [
       "<Figure size 1440x720 with 1 Axes>"
      ]
     },
     "metadata": {
      "needs_background": "light"
     },
     "output_type": "display_data"
    }
   ],
   "source": [
    "# age and income\n",
    "# create the figure and the line that will go in it\n",
    "fig, ax = plt.subplots(figsize=(20, 10))\n",
    "\n",
    "# customizing the boxplot with Seaborn\n",
    "sns.boxplot(x='age', y='income', data=df, ax=ax, palette='coolwarm')\n",
    "\n",
    "# adding titles and labels\n",
    "ax.set_title('Income Distribution by Age', fontsize=20)\n",
    "ax.set_xlabel('Age', fontsize=16)\n",
    "ax.set_ylabel('Income', fontsize=16)\n",
    "\n",
    "# customizing ticks for better readability\n",
    "ax.tick_params(axis='x', labelsize=14)\n",
    "ax.tick_params(axis='y', labelsize=14)\n",
    "\n",
    "# adding grid lines\n",
    "ax.grid(True, linestyle='--', alpha=0.7)\n",
    "\n",
    "plt.show()"
   ]
  },
  {
   "cell_type": "code",
   "execution_count": 8,
   "metadata": {
    "execution": {
     "iopub.execute_input": "2023-09-17T18:08:31.419687Z",
     "iopub.status.busy": "2023-09-17T18:08:31.419251Z",
     "iopub.status.idle": "2023-09-17T18:08:32.382658Z",
     "shell.execute_reply": "2023-09-17T18:08:32.381426Z",
     "shell.execute_reply.started": "2023-09-17T18:08:31.419629Z"
    }
   },
   "outputs": [
    {
     "data": {
      "image/png": "[encoded data removed]",
      "text/plain": [
       "<Figure size 1440x720 with 1 Axes>"
      ]
     },
     "metadata": {
      "needs_background": "light"
     },
     "output_type": "display_data"
    }
   ],
   "source": [
    "# age and debt to income ratio\n",
    "# create the figure and the line that will go in it\n",
    "fig, ax = plt.subplots(figsize=(20, 10))\n",
    "\n",
    "# customizing the boxplot with Seaborn\n",
    "sns.boxplot(x='age', y='debtinc', data=df, ax=ax, palette='coolwarm')\n",
    "\n",
    "# adding titles and labels\n",
    "ax.set_title('Debt to Income Ratio Distribution by Age', fontsize=20)\n",
    "ax.set_xlabel('Age', fontsize=16)\n",
    "ax.set_ylabel('Debt to Income Ratio', fontsize=16)\n",
    "\n",
    "# customizing ticks for better readability\n",
    "ax.tick_params(axis='x', labelsize=14)\n",
    "ax.tick_params(axis='y', labelsize=14)\n",
    "\n",
    "# adding grid lines\n",
    "ax.grid(True, linestyle='--', alpha=0.7)\n",
    "\n",
    "plt.show()"
   ]
  },
  {
   "cell_type": "code",
   "execution_count": 9,
   "metadata": {
    "execution": {
     "iopub.execute_input": "2023-09-17T18:08:43.671628Z",
     "iopub.status.busy": "2023-09-17T18:08:43.671190Z",
     "iopub.status.idle": "2023-09-17T18:08:44.973218Z",
     "shell.execute_reply": "2023-09-17T18:08:44.972284Z",
     "shell.execute_reply.started": "2023-09-17T18:08:43.671591Z"
    }
   },
   "outputs": [
    {
     "data": {
      "image/png": "[encoded data removed]",
      "text/plain": [
       "<Figure size 1440x720 with 1 Axes>"
      ]
     },
     "metadata": {
      "needs_background": "light"
     },
     "output_type": "display_data"
    }
   ],
   "source": [
    "# age and credit to income ratio\n",
    "# create the figure and the line that will go in it\n",
    "fig, ax = plt.subplots(figsize=(20, 10))\n",
    "\n",
    "# customizing the boxplot with Seaborn\n",
    "sns.boxplot(x='age', y='creddebt', data=df, ax=ax, palette='coolwarm')\n",
    "\n",
    "# adding titles and labels\n",
    "ax.set_title('Credit to Income Ratio Distribution by Age', fontsize=20)\n",
    "ax.set_xlabel('Age', fontsize=16)\n",
    "ax.set_ylabel('Credit to Income Ratio', fontsize=16)\n",
    "\n",
    "# customizing ticks for better readability\n",
    "ax.tick_params(axis='x', labelsize=14)\n",
    "ax.tick_params(axis='y', labelsize=14)\n",
    "\n",
    "# adding grid lines\n",
    "ax.grid(True, linestyle='--', alpha=0.7)\n",
    "\n",
    "plt.show()"
   ]
  },
  {
   "cell_type": "markdown",
   "metadata": {},
   "source": [
    "# Set Data up for Models"
   ]
  },
  {
   "cell_type": "code",
   "execution_count": 10,
   "metadata": {
    "execution": {
     "iopub.execute_input": "2023-09-17T18:10:43.436455Z",
     "iopub.status.busy": "2023-09-17T18:10:43.436056Z",
     "iopub.status.idle": "2023-09-17T18:10:43.447240Z",
     "shell.execute_reply": "2023-09-17T18:10:43.445971Z",
     "shell.execute_reply.started": "2023-09-17T18:10:43.436419Z"
    }
   },
   "outputs": [
    {
     "data": {
      "text/plain": [
       "0.0    517\n",
       "1.0    183\n",
       "Name: default, dtype: int64"
      ]
     },
     "execution_count": 10,
     "metadata": {},
     "output_type": "execute_result"
    }
   ],
   "source": [
    "# count defaults\n",
    "df['default'].value_counts()"
   ]
  },
  {
   "cell_type": "code",
   "execution_count": 135,
   "metadata": {
    "execution": {
     "iopub.execute_input": "2023-09-17T18:10:43.631686Z",
     "iopub.status.busy": "2023-09-17T18:10:43.631242Z",
     "iopub.status.idle": "2023-09-17T18:10:43.642771Z",
     "shell.execute_reply": "2023-09-17T18:10:43.640543Z",
     "shell.execute_reply.started": "2023-09-17T18:10:43.631625Z"
    }
   },
   "outputs": [],
   "source": [
    "# set x values and y\n",
    "x = df.drop(['default'],axis=1)\n",
    "y = df['default']\n",
    "\n",
    "# train test split\n",
    "x_train, x_test, y_train, y_test = train_test_split(x, y, test_size=0.2, shuffle=True, random_state=44)"
   ]
  },
  {
   "cell_type": "code",
   "execution_count": 136,
   "metadata": {
    "execution": {
     "iopub.execute_input": "2023-09-17T18:10:43.895414Z",
     "iopub.status.busy": "2023-09-17T18:10:43.894685Z",
     "iopub.status.idle": "2023-09-17T18:10:43.912411Z",
     "shell.execute_reply": "2023-09-17T18:10:43.910846Z",
     "shell.execute_reply.started": "2023-09-17T18:10:43.895375Z"
    }
   },
   "outputs": [],
   "source": [
    "# scale features\n",
    "sc = StandardScaler()\n",
    "x_train = sc.fit_transform(x_train)\n",
    "x_test = sc.fit_transform(x_test)"
   ]
  },
  {
   "cell_type": "markdown",
   "metadata": {},
   "source": [
    "# Create Models"
   ]
  },
  {
   "cell_type": "markdown",
   "metadata": {},
   "source": [
    "## Random Forest Classifier"
   ]
  },
  {
   "cell_type": "code",
   "execution_count": 137,
   "metadata": {
    "execution": {
     "iopub.execute_input": "2023-09-17T18:11:10.429613Z",
     "iopub.status.busy": "2023-09-17T18:11:10.429210Z",
     "iopub.status.idle": "2023-09-17T18:11:10.435125Z",
     "shell.execute_reply": "2023-09-17T18:11:10.434014Z",
     "shell.execute_reply.started": "2023-09-17T18:11:10.429573Z"
    }
   },
   "outputs": [
    {
     "data": {
      "text/plain": [
       "RandomForestClassifier(n_estimators=50)"
      ]
     },
     "execution_count": 137,
     "metadata": {},
     "output_type": "execute_result"
    }
   ],
   "source": [
    "# random forest classifier\n",
    "rfc = RandomForestClassifier(n_estimators=50)\n",
    "\n",
    "# fit model\n",
    "rfc.fit(x_train, y_train)"
   ]
  },
  {
   "cell_type": "code",
   "execution_count": 138,
   "metadata": {
    "execution": {
     "iopub.execute_input": "2023-09-17T18:11:47.735456Z",
     "iopub.status.busy": "2023-09-17T18:11:47.735017Z",
     "iopub.status.idle": "2023-09-17T18:11:47.757890Z",
     "shell.execute_reply": "2023-09-17T18:11:47.756581Z",
     "shell.execute_reply.started": "2023-09-17T18:11:47.735419Z"
    }
   },
   "outputs": [
    {
     "data": {
      "text/plain": [
       "0.7285714285714285"
      ]
     },
     "execution_count": 138,
     "metadata": {},
     "output_type": "execute_result"
    }
   ],
   "source": [
    "# Mean accuracy score\n",
    "rfc.score(x_test, y_test)"
   ]
  },
  {
   "cell_type": "markdown",
   "metadata": {},
   "source": [
    "### Search for best Params"
   ]
  },
  {
   "cell_type": "code",
   "execution_count": 139,
   "metadata": {
    "execution": {
     "iopub.execute_input": "2023-09-17T18:16:49.350174Z",
     "iopub.status.busy": "2023-09-17T18:16:49.349767Z",
     "iopub.status.idle": "2023-09-17T18:16:49.357097Z",
     "shell.execute_reply": "2023-09-17T18:16:49.355925Z",
     "shell.execute_reply.started": "2023-09-17T18:16:49.350138Z"
    }
   },
   "outputs": [],
   "source": [
    "# test out some parameters with grid search\n",
    "\n",
    "param_grid = {\n",
    "    'n_estimators': [10, 50, 100, 200],   \n",
    "    'max_depth': [10, 20, 30, 40],  \n",
    "    'min_samples_split': [2, 5, 10],  \n",
    "    'min_samples_leaf': [1, 2, 4], \n",
    "}\n",
    "\n",
    "model = GridSearchCV(rfc, param_grid, scoring='accuracy', cv=5)\n"
   ]
  },
  {
   "cell_type": "code",
   "execution_count": 140,
   "metadata": {
    "execution": {
     "iopub.execute_input": "2023-09-17T18:16:49.833376Z",
     "iopub.status.busy": "2023-09-17T18:16:49.832975Z",
     "iopub.status.idle": "2023-09-17T18:16:56.235942Z",
     "shell.execute_reply": "2023-09-17T18:16:56.234659Z",
     "shell.execute_reply.started": "2023-09-17T18:16:49.833341Z"
    }
   },
   "outputs": [
    {
     "data": {
      "text/plain": [
       "GridSearchCV(cv=5, estimator=RandomForestClassifier(n_estimators=50),\n",
       "             param_grid={'max_depth': [10, 20, 30, 40],\n",
       "                         'min_samples_leaf': [1, 2, 4],\n",
       "                         'min_samples_split': [2, 5, 10],\n",
       "                         'n_estimators': [10, 50, 100, 200]},\n",
       "             scoring='accuracy')"
      ]
     },
     "execution_count": 140,
     "metadata": {},
     "output_type": "execute_result"
    }
   ],
   "source": [
    "# fit for grid search model\n",
    "model.fit(x_train,y_train)"
   ]
  },
  {
   "cell_type": "code",
   "execution_count": 141,
   "metadata": {
    "execution": {
     "iopub.execute_input": "2023-09-17T18:17:04.884277Z",
     "iopub.status.busy": "2023-09-17T18:17:04.883880Z",
     "iopub.status.idle": "2023-09-17T18:17:04.891556Z",
     "shell.execute_reply": "2023-09-17T18:17:04.890477Z",
     "shell.execute_reply.started": "2023-09-17T18:17:04.884237Z"
    }
   },
   "outputs": [
    {
     "data": {
      "text/plain": [
       "{'max_depth': 10,\n",
       " 'min_samples_leaf': 2,\n",
       " 'min_samples_split': 5,\n",
       " 'n_estimators': 200}"
      ]
     },
     "execution_count": 141,
     "metadata": {},
     "output_type": "execute_result"
    }
   ],
   "source": [
    "# best parameters\n",
    "model.best_params_"
   ]
  },
  {
   "cell_type": "code",
   "execution_count": 165,
   "metadata": {
    "execution": {
     "iopub.execute_input": "2023-09-17T18:45:47.002792Z",
     "iopub.status.busy": "2023-09-17T18:45:47.002368Z",
     "iopub.status.idle": "2023-09-17T18:45:47.053171Z",
     "shell.execute_reply": "2023-09-17T18:45:47.051903Z",
     "shell.execute_reply.started": "2023-09-17T18:45:47.002755Z"
    }
   },
   "outputs": [
    {
     "data": {
      "text/plain": [
       "0.6928571428571428"
      ]
     },
     "execution_count": 165,
     "metadata": {},
     "output_type": "execute_result"
    }
   ],
   "source": [
    "# model with best params, and accuracy score\n",
    "rfc_2 = RandomForestClassifier(max_depth=10, min_samples_leaf=2, min_samples_split=5, n_estimators=200)\n",
    "rfc_2.fit(x_train,y_train)\n",
    "rfc_2.score(x_test,y_test)"
   ]
  },
  {
   "cell_type": "markdown",
   "metadata": {},
   "source": [
    "## Support Vector Machine"
   ]
  },
  {
   "cell_type": "code",
   "execution_count": 143,
   "metadata": {
    "execution": {
     "iopub.execute_input": "2023-09-17T18:13:26.343565Z",
     "iopub.status.busy": "2023-09-17T18:13:26.343168Z",
     "iopub.status.idle": "2023-09-17T18:13:26.369347Z",
     "shell.execute_reply": "2023-09-17T18:13:26.368065Z",
     "shell.execute_reply.started": "2023-09-17T18:13:26.343531Z"
    }
   },
   "outputs": [
    {
     "data": {
      "text/plain": [
       "SVC()"
      ]
     },
     "execution_count": 143,
     "metadata": {},
     "output_type": "execute_result"
    }
   ],
   "source": [
    "# support vector machine\n",
    "sv = SVC()\n",
    "sv.fit(x_train, y_train)"
   ]
  },
  {
   "cell_type": "code",
   "execution_count": 144,
   "metadata": {
    "execution": {
     "iopub.execute_input": "2023-09-17T18:13:27.789390Z",
     "iopub.status.busy": "2023-09-17T18:13:27.788977Z",
     "iopub.status.idle": "2023-09-17T18:13:27.802891Z",
     "shell.execute_reply": "2023-09-17T18:13:27.801441Z",
     "shell.execute_reply.started": "2023-09-17T18:13:27.789353Z"
    }
   },
   "outputs": [
    {
     "data": {
      "text/plain": [
       "0.6928571428571428"
      ]
     },
     "execution_count": 144,
     "metadata": {},
     "output_type": "execute_result"
    }
   ],
   "source": [
    "# Mean accuracy score\n",
    "sv.score(x_test, y_test)"
   ]
  },
  {
   "cell_type": "markdown",
   "metadata": {},
   "source": [
    "### Search for best Params"
   ]
  },
  {
   "cell_type": "code",
   "execution_count": 145,
   "metadata": {
    "execution": {
     "iopub.execute_input": "2023-09-17T18:16:49.350174Z",
     "iopub.status.busy": "2023-09-17T18:16:49.349767Z",
     "iopub.status.idle": "2023-09-17T18:16:49.357097Z",
     "shell.execute_reply": "2023-09-17T18:16:49.355925Z",
     "shell.execute_reply.started": "2023-09-17T18:16:49.350138Z"
    }
   },
   "outputs": [],
   "source": [
    "model = GridSearchCV(sv, {\n",
    "    'C': [0.05, 0.1, 0.5, 1.0, 5.0, 10.0],  \n",
    "    'gamma': [0.01, 0.1, 0.5, 1.0, 5.0],  \n",
    "    'kernel': ['rbf', 'linear'],}, scoring='accuracy', cv=5) "
   ]
  },
  {
   "cell_type": "code",
   "execution_count": 146,
   "metadata": {
    "execution": {
     "iopub.execute_input": "2023-09-17T18:16:49.833376Z",
     "iopub.status.busy": "2023-09-17T18:16:49.832975Z",
     "iopub.status.idle": "2023-09-17T18:16:56.235942Z",
     "shell.execute_reply": "2023-09-17T18:16:56.234659Z",
     "shell.execute_reply.started": "2023-09-17T18:16:49.833341Z"
    }
   },
   "outputs": [
    {
     "data": {
      "text/plain": [
       "GridSearchCV(cv=5, estimator=SVC(),\n",
       "             param_grid={'C': [0.05, 0.1, 0.5, 1.0, 5.0, 10.0],\n",
       "                         'gamma': [0.01, 0.1, 0.5, 1.0, 5.0],\n",
       "                         'kernel': ['rbf', 'linear']},\n",
       "             scoring='accuracy')"
      ]
     },
     "execution_count": 146,
     "metadata": {},
     "output_type": "execute_result"
    }
   ],
   "source": [
    "# fit for grid search model\n",
    "model.fit(x_train,y_train)"
   ]
  },
  {
   "cell_type": "code",
   "execution_count": 147,
   "metadata": {
    "execution": {
     "iopub.execute_input": "2023-09-17T18:17:04.884277Z",
     "iopub.status.busy": "2023-09-17T18:17:04.883880Z",
     "iopub.status.idle": "2023-09-17T18:17:04.891556Z",
     "shell.execute_reply": "2023-09-17T18:17:04.890477Z",
     "shell.execute_reply.started": "2023-09-17T18:17:04.884237Z"
    }
   },
   "outputs": [
    {
     "data": {
      "text/plain": [
       "{'C': 0.5, 'gamma': 0.01, 'kernel': 'linear'}"
      ]
     },
     "execution_count": 147,
     "metadata": {},
     "output_type": "execute_result"
    }
   ],
   "source": [
    "# best parameters\n",
    "model.best_params_"
   ]
  },
  {
   "cell_type": "code",
   "execution_count": 168,
   "metadata": {
    "execution": {
     "iopub.execute_input": "2023-09-17T18:45:47.002792Z",
     "iopub.status.busy": "2023-09-17T18:45:47.002368Z",
     "iopub.status.idle": "2023-09-17T18:45:47.053171Z",
     "shell.execute_reply": "2023-09-17T18:45:47.051903Z",
     "shell.execute_reply.started": "2023-09-17T18:45:47.002755Z"
    }
   },
   "outputs": [
    {
     "data": {
      "text/plain": [
       "0.7428571428571429"
      ]
     },
     "execution_count": 168,
     "metadata": {},
     "output_type": "execute_result"
    }
   ],
   "source": [
    "# model with best params, and accuracy score\n",
    "svc_2 = SVC(C=1.0,gamma=0.01,kernel='linear')\n",
    "svc_2.fit(x_train,y_train)\n",
    "svc_2.score(x_test,y_test)"
   ]
  },
  {
   "cell_type": "markdown",
   "metadata": {},
   "source": [
    "## Logistic Regression"
   ]
  },
  {
   "cell_type": "code",
   "execution_count": 149,
   "metadata": {},
   "outputs": [
    {
     "data": {
      "text/plain": [
       "LogisticRegression()"
      ]
     },
     "execution_count": 149,
     "metadata": {},
     "output_type": "execute_result"
    }
   ],
   "source": [
    "# logistic regression and accuracy score\n",
    "lr = LogisticRegression()\n",
    "lr.fit(x_train,y_train)"
   ]
  },
  {
   "cell_type": "code",
   "execution_count": 150,
   "metadata": {
    "execution": {
     "iopub.execute_input": "2023-09-17T18:52:33.944089Z",
     "iopub.status.busy": "2023-09-17T18:52:33.943717Z",
     "iopub.status.idle": "2023-09-17T18:52:33.965241Z",
     "shell.execute_reply": "2023-09-17T18:52:33.963961Z",
     "shell.execute_reply.started": "2023-09-17T18:52:33.944055Z"
    }
   },
   "outputs": [
    {
     "data": {
      "text/plain": [
       "0.7285714285714285"
      ]
     },
     "execution_count": 150,
     "metadata": {},
     "output_type": "execute_result"
    }
   ],
   "source": [
    "# mean accuracy score\n",
    "lr.score(x_test,y_test)"
   ]
  },
  {
   "cell_type": "markdown",
   "metadata": {},
   "source": [
    "### Search for best Params"
   ]
  },
  {
   "cell_type": "code",
   "execution_count": 151,
   "metadata": {},
   "outputs": [],
   "source": [
    "param_grid = {\n",
    "    'C': [0.001, 0.01, 0.1, 1, 10, 100, 1000],  \n",
    "    'penalty': ['l1', 'l2'],  \n",
    "    'solver': ['liblinear']  \n",
    "}"
   ]
  },
  {
   "cell_type": "code",
   "execution_count": 152,
   "metadata": {},
   "outputs": [],
   "source": [
    "model = GridSearchCV(lr, param_grid, scoring='accuracy', cv=5)"
   ]
  },
  {
   "cell_type": "code",
   "execution_count": 153,
   "metadata": {},
   "outputs": [
    {
     "data": {
      "text/plain": [
       "GridSearchCV(cv=5, estimator=LogisticRegression(),\n",
       "             param_grid={'C': [0.001, 0.01, 0.1, 1, 10, 100, 1000],\n",
       "                         'penalty': ['l1', 'l2'], 'solver': ['liblinear']},\n",
       "             scoring='accuracy')"
      ]
     },
     "execution_count": 153,
     "metadata": {},
     "output_type": "execute_result"
    }
   ],
   "source": [
    "model.fit(x_train, y_train)"
   ]
  },
  {
   "cell_type": "code",
   "execution_count": 154,
   "metadata": {},
   "outputs": [
    {
     "data": {
      "text/plain": [
       "{'C': 0.1, 'penalty': 'l1', 'solver': 'liblinear'}"
      ]
     },
     "execution_count": 154,
     "metadata": {},
     "output_type": "execute_result"
    }
   ],
   "source": [
    "model.best_params_"
   ]
  },
  {
   "cell_type": "code",
   "execution_count": 169,
   "metadata": {},
   "outputs": [
    {
     "data": {
      "text/plain": [
       "0.7357142857142858"
      ]
     },
     "execution_count": 169,
     "metadata": {},
     "output_type": "execute_result"
    }
   ],
   "source": [
    "# model with best params, and accuracy score\n",
    "lr_2 = LogisticRegression(C=0.1,penalty='l1',solver='liblinear')\n",
    "lr_2.fit(x_train,y_train)\n",
    "lr_2.score(x_test,y_test)"
   ]
  },
  {
   "cell_type": "code",
   "execution_count": null,
   "metadata": {},
   "outputs": [],
   "source": []
  },
  {
   "cell_type": "markdown",
   "metadata": {},
   "source": [
    "## Bagging Classifier"
   ]
  },
  {
   "cell_type": "code",
   "execution_count": 170,
   "metadata": {
    "execution": {
     "iopub.execute_input": "2023-09-17T18:48:52.935994Z",
     "iopub.status.busy": "2023-09-17T18:48:52.935577Z",
     "iopub.status.idle": "2023-09-17T18:48:53.029702Z",
     "shell.execute_reply": "2023-09-17T18:48:53.028593Z",
     "shell.execute_reply.started": "2023-09-17T18:48:52.935963Z"
    }
   },
   "outputs": [
    {
     "data": {
      "text/plain": [
       "BaggingClassifier(base_estimator=LogisticRegression(), random_state=0)"
      ]
     },
     "execution_count": 170,
     "metadata": {},
     "output_type": "execute_result"
    }
   ],
   "source": [
    "# bagging classifier\n",
    "from sklearn.ensemble import BaggingClassifier\n",
    "\n",
    "bagging_log_reg = BaggingClassifier(base_estimator=lr, n_estimators=10, random_state=0)\n",
    "bagging_log_reg.fit(x_train, y_train)\n",
    "\n",
    "\n"
   ]
  },
  {
   "cell_type": "code",
   "execution_count": 171,
   "metadata": {},
   "outputs": [
    {
     "data": {
      "text/plain": [
       "0.7357142857142858"
      ]
     },
     "execution_count": 171,
     "metadata": {},
     "output_type": "execute_result"
    }
   ],
   "source": [
    "# mean accuracy score\n",
    "bagging_log_reg.score(x_test,y_test)"
   ]
  },
  {
   "cell_type": "markdown",
   "metadata": {},
   "source": [
    "## AdaBoost Classifier"
   ]
  },
  {
   "cell_type": "code",
   "execution_count": 172,
   "metadata": {
    "execution": {
     "iopub.execute_input": "2023-09-17T18:49:01.442453Z",
     "iopub.status.busy": "2023-09-17T18:49:01.442060Z",
     "iopub.status.idle": "2023-09-17T18:49:01.746492Z",
     "shell.execute_reply": "2023-09-17T18:49:01.745449Z",
     "shell.execute_reply.started": "2023-09-17T18:49:01.442418Z"
    }
   },
   "outputs": [
    {
     "data": {
      "text/plain": [
       "AdaBoostClassifier(base_estimator=LogisticRegression(), random_state=0)"
      ]
     },
     "execution_count": 172,
     "metadata": {},
     "output_type": "execute_result"
    }
   ],
   "source": [
    "from sklearn.ensemble import AdaBoostClassifier\n",
    "\n",
    "# create an AdaBoost classifier for logistic regression\n",
    "adaboost = AdaBoostClassifier(base_estimator=lr, n_estimators=50, random_state=0)\n",
    "adaboost.fit(x_train, y_train)\n",
    "\n"
   ]
  },
  {
   "cell_type": "code",
   "execution_count": 173,
   "metadata": {},
   "outputs": [
    {
     "data": {
      "text/plain": [
       "0.7428571428571429"
      ]
     },
     "execution_count": 173,
     "metadata": {},
     "output_type": "execute_result"
    }
   ],
   "source": [
    "# mean accuracy score\n",
    "adaboost.score(x_test,y_test)"
   ]
  },
  {
   "cell_type": "code",
   "execution_count": null,
   "metadata": {},
   "outputs": [],
   "source": []
  },
  {
   "cell_type": "markdown",
   "metadata": {},
   "source": [
    "### Search for best Params"
   ]
  },
  {
   "cell_type": "code",
   "execution_count": 177,
   "metadata": {},
   "outputs": [],
   "source": [
    "param_grid = {\n",
    "    'n_estimators': [10, 50, 100, 200],\n",
    "    'learning_rate': [0.001, 0.01, 0.1, 0.5, 1.0], \n",
    "}"
   ]
  },
  {
   "cell_type": "code",
   "execution_count": 178,
   "metadata": {},
   "outputs": [],
   "source": [
    "model = GridSearchCV(adaboost, param_grid, scoring='accuracy', cv=5)"
   ]
  },
  {
   "cell_type": "code",
   "execution_count": 179,
   "metadata": {},
   "outputs": [
    {
     "data": {
      "text/plain": [
       "GridSearchCV(cv=5,\n",
       "             estimator=AdaBoostClassifier(base_estimator=LogisticRegression(),\n",
       "                                          random_state=0),\n",
       "             param_grid={'learning_rate': [0.001, 0.01, 0.1, 0.5, 1.0],\n",
       "                         'n_estimators': [10, 50, 100, 200]},\n",
       "             scoring='accuracy')"
      ]
     },
     "execution_count": 179,
     "metadata": {},
     "output_type": "execute_result"
    }
   ],
   "source": [
    "model.fit(x_train, y_train)"
   ]
  },
  {
   "cell_type": "code",
   "execution_count": 180,
   "metadata": {},
   "outputs": [
    {
     "data": {
      "text/plain": [
       "{'learning_rate': 0.5, 'n_estimators': 200}"
      ]
     },
     "execution_count": 180,
     "metadata": {},
     "output_type": "execute_result"
    }
   ],
   "source": [
    "model.best_params_"
   ]
  },
  {
   "cell_type": "code",
   "execution_count": 182,
   "metadata": {},
   "outputs": [
    {
     "data": {
      "text/plain": [
       "0.7357142857142858"
      ]
     },
     "execution_count": 182,
     "metadata": {},
     "output_type": "execute_result"
    }
   ],
   "source": [
    "# model with best params, and accuracy score\n",
    "adaboost_2 = AdaBoostClassifier(learning_rate=0.5, n_estimators=200)\n",
    "adaboost_2.fit(x_train,y_train)\n",
    "adaboost_2.score(x_test,y_test)"
   ]
  },
  {
   "cell_type": "code",
   "execution_count": null,
   "metadata": {},
   "outputs": [],
   "source": []
  },
  {
   "cell_type": "markdown",
   "metadata": {},
   "source": [
    "# Ensemble & Stacking Models"
   ]
  },
  {
   "cell_type": "code",
   "execution_count": 183,
   "metadata": {
    "execution": {
     "iopub.execute_input": "2023-09-17T18:43:03.568920Z",
     "iopub.status.busy": "2023-09-17T18:43:03.568495Z",
     "iopub.status.idle": "2023-09-17T18:43:03.865043Z",
     "shell.execute_reply": "2023-09-17T18:43:03.864032Z",
     "shell.execute_reply.started": "2023-09-17T18:43:03.568882Z"
    }
   },
   "outputs": [
    {
     "data": {
      "text/plain": [
       "0.7428571428571429"
      ]
     },
     "execution_count": 183,
     "metadata": {},
     "output_type": "execute_result"
    }
   ],
   "source": [
    "# simple voting classifier of the three models\n",
    "\n",
    "rfc_pred = rfc.predict(x_test)\n",
    "svc_2_pred = svc_2.predict(x_test)\n",
    "lr_pred = lr.predict(x_test)\n",
    "\n",
    "final_predictions = (rfc_pred + svc_2_pred + lr_pred) / 3\n",
    "\n",
    "\n",
    "\n",
    "#voting classifier\n",
    "voting_clf = VotingClassifier(\n",
    "    estimators=[('model1', rfc_2), ('model2', svc_2), ('model3', lr_2)],\n",
    "    voting='hard')\n",
    "\n",
    "# fit the ensemble model\n",
    "voting_clf.fit(x_train, y_train)\n",
    "\n",
    "# mean accuracy score\n",
    "voting_clf.score(x_test,y_test)"
   ]
  },
  {
   "cell_type": "code",
   "execution_count": 184,
   "metadata": {
    "execution": {
     "iopub.execute_input": "2023-09-17T18:43:59.324738Z",
     "iopub.status.busy": "2023-09-17T18:43:59.323137Z",
     "iopub.status.idle": "2023-09-17T18:44:00.787945Z",
     "shell.execute_reply": "2023-09-17T18:44:00.786697Z",
     "shell.execute_reply.started": "2023-09-17T18:43:59.323637Z"
    }
   },
   "outputs": [
    {
     "data": {
      "text/plain": [
       "0.7357142857142858"
      ]
     },
     "execution_count": 184,
     "metadata": {},
     "output_type": "execute_result"
    }
   ],
   "source": [
    "from sklearn.ensemble import StackingClassifier\n",
    "\n",
    "# initialize the Stacking Classifier with the base models and meta-model\n",
    "stacking_clf = StackingClassifier(\n",
    "    estimators=[('model1', rfc_2), ('model2', svc_2), ('model3', lr_2)],\n",
    "    final_estimator=LogisticRegression()  # using Logistic Regression as the meta-model\n",
    ")\n",
    "\n",
    "# fit the ensemble model\n",
    "stacking_clf.fit(x_train, y_train)\n",
    "\n",
    "# mean accuracy score\n",
    "stacking_clf.score(x_test,y_test)"
   ]
  },
  {
   "cell_type": "code",
   "execution_count": 185,
   "metadata": {
    "execution": {
     "iopub.execute_input": "2023-09-17T18:51:09.070835Z",
     "iopub.status.busy": "2023-09-17T18:51:09.070380Z",
     "iopub.status.idle": "2023-09-17T18:51:09.650949Z",
     "shell.execute_reply": "2023-09-17T18:51:09.649699Z",
     "shell.execute_reply.started": "2023-09-17T18:51:09.070796Z"
    }
   },
   "outputs": [
    {
     "data": {
      "text/plain": [
       "0.7357142857142858"
      ]
     },
     "execution_count": 185,
     "metadata": {},
     "output_type": "execute_result"
    }
   ],
   "source": [
    "# another voting classifer with \n",
    "from sklearn.ensemble import VotingClassifier\n",
    "\n",
    "# create a combined ensemble model\n",
    "combined_model = VotingClassifier(\n",
    "    estimators=[\n",
    "        ('log_reg', lr_2),\n",
    "        ('rand_forest', rfc_2),\n",
    "        ('svm', svc_2),\n",
    "        ('bagging_log_reg', bagging_log_reg),\n",
    "        ('adaboost_log_reg', adaboost)\n",
    "    ],\n",
    "    voting='hard'\n",
    ")\n",
    "combined_model.fit(x_train, y_train)\n",
    "\n",
    "# mean accuracy score\n",
    "combined_model.score(x_test,y_test)"
   ]
  },
  {
   "cell_type": "code",
   "execution_count": 186,
   "metadata": {
    "execution": {
     "iopub.execute_input": "2023-09-17T18:52:13.615800Z",
     "iopub.status.busy": "2023-09-17T18:52:13.615382Z",
     "iopub.status.idle": "2023-09-17T18:52:17.000433Z",
     "shell.execute_reply": "2023-09-17T18:52:16.999427Z",
     "shell.execute_reply.started": "2023-09-17T18:52:13.615762Z"
    }
   },
   "outputs": [
    {
     "data": {
      "text/plain": [
       "0.7357142857142858"
      ]
     },
     "execution_count": 186,
     "metadata": {},
     "output_type": "execute_result"
    }
   ],
   "source": [
    "from sklearn.ensemble import StackingClassifier\n",
    "\n",
    "# Create a stacking classifier\n",
    "combined_stacking_clf = StackingClassifier(\n",
    "    estimators=[\n",
    "        ('log_reg', lr_2),\n",
    "        ('rand_forest', rfc_2),\n",
    "        ('svm', svc_2),\n",
    "        ('bagging_log_reg', bagging_log_reg),\n",
    "        ('adaboost_log_reg', adaboost)\n",
    "    ],\n",
    "    final_estimator=LogisticRegression()\n",
    ")\n",
    "combined_stacking_clf.fit(x_train, y_train)\n",
    "\n",
    "# mean accuracy score\n",
    "combined_stacking_clf.score(x_test,y_test)"
   ]
  },
  {
   "cell_type": "markdown",
   "metadata": {},
   "source": [
    "### Notes related to .score:  \n",
    "\n",
    "For classifiers, by default, it returns the mean accuracy on the given test data and labels. \n",
    "\n",
    "For regressors, it typically returns the coefficient of determination R^2 of the prediction. "
   ]
  },
  {
   "cell_type": "code",
   "execution_count": 187,
   "metadata": {
    "scrolled": true
   },
   "outputs": [
    {
     "name": "stdout",
     "output_type": "stream",
     "text": [
      "Random Forest Classifier Mean Accuracy Score:  0.6928571428571428\n",
      "Support Vector Classification Mean Accuracy Score:  0.7428571428571429\n",
      "Logistic Regression Mean Accuracy Score:  0.7357142857142858\n",
      "Bagging Classifier Mean Accuracy Score:  0.7357142857142858\n",
      "AdaBoost Classifier Mean Accuracy Score:  0.7428571428571429\n",
      "Voting Classifier Mean Accuracy Score:  0.7428571428571429\n",
      "Stacking Classifier Mean Accuracy Score:  0.7357142857142858\n",
      "Combined Voting Classifier Mean Accuracy Score:  0.7357142857142858\n",
      "Combined Stacking Classifier Mean Accuracy Score:  0.7357142857142858\n"
     ]
    }
   ],
   "source": [
    "print(\"Random Forest Classifier Mean Accuracy Score: \", rfc_2.score(x_test,y_test))\n",
    "print(\"Support Vector Classification Mean Accuracy Score: \", svc_2.score(x_test,y_test))\n",
    "print(\"Logistic Regression Mean Accuracy Score: \", lr_2.score(x_test,y_test))\n",
    "print(\"Bagging Classifier Mean Accuracy Score: \", bagging_log_reg.score(x_test,y_test))\n",
    "print(\"AdaBoost Classifier Mean Accuracy Score: \", adaboost.score(x_test,y_test))\n",
    "print(\"Voting Classifier Mean Accuracy Score: \", voting_clf.score(x_test,y_test))\n",
    "print(\"Stacking Classifier Mean Accuracy Score: \", stacking_clf.score(x_test,y_test))\n",
    "print(\"Combined Voting Classifier Mean Accuracy Score: \", combined_model.score(x_test,y_test))\n",
    "print(\"Combined Stacking Classifier Mean Accuracy Score: \", combined_stacking_clf.score(x_test,y_test))"
   ]
  },
  {
   "cell_type": "markdown",
   "metadata": {},
   "source": [
    "From the data that was used to test & train these different models we can see that the Support Vector Machine & AdaBoost models performed the best as it relates to the Mean Accuracy. The Voting classifier was also able to take advantage of these underlying models and end up with the same score.\n",
    "\n",
    "Future areas of opportunity include feature engineering, testing different models, and understanding the outcomes of different cross validation techniques. In the future, an ensemble method could take advantage of probability predictions from an array of models."
   ]
  }
 ],
 "metadata": {
  "kernelspec": {
   "display_name": "Python 3",
   "language": "python",
   "name": "python3"
  },
  "language_info": {
   "codemirror_mode": {
    "name": "ipython",
    "version": 3
   },
   "file_extension": ".py",
   "mimetype": "text/x-python",
   "name": "python",
   "nbconvert_exporter": "python",
   "pygments_lexer": "ipython3",
   "version": "3.8.8"
  }
 },
 "nbformat": 4,
 "nbformat_minor": 4
}
